{
 "cells": [
  {
   "cell_type": "code",
   "execution_count": 18,
   "metadata": {
    "collapsed": true,
    "pycharm": {
     "name": "#%%\n"
    }
   },
   "outputs": [],
   "source": [
    "import numpy as np\n",
    "import torch\n",
    "import torch.nn as nn\n",
    "from basic_model import DeepModel_single, gradients\n",
    "from visual_data import matplotlib_vision\n",
    "\n",
    "import time\n",
    "from tqdm import trange\n",
    "import matplotlib.pyplot as plt"
   ]
  },
  {
   "cell_type": "markdown",
   "source": [
    "#### 2d-NS-control 流动问题\n",
    "求解 $u(x,y)$, $v(x,y)$, $p(x,y)$\n",
    "$$\n",
    "    u \\frac{\\partial u}{\\partial x} + v\\frac{\\partial u}{\\partial y} + \\frac{\\partial p}{\\partial x}\n",
    "     - (\\frac{\\partial^2 u}{\\partial^2 x} + \\frac{\\partial^2 u}{\\partial^2 y})/ Re = 0\\\\\n",
    "         u \\frac{\\partial v}{\\partial x} + v\\frac{\\partial v}{\\partial y} + \\frac{\\partial p}{\\partial y}\n",
    "     - (\\frac{\\partial^2 v}{\\partial^2 x} + \\frac{\\partial^2 v}{\\partial^2 y})/ Re = 0\\\\\n",
    "    u(x, 1) = 0, u(x, 0) = 0, u(0, y) = 0, u(1, y) = u_0\\\\\n",
    "    v(x, 1) = v(x, 0) = v(0, y) =  v(1, y) = 0\\\\\n",
    "    Re = 100.\n",
    "$$"
   ],
   "metadata": {
    "collapsed": false,
    "pycharm": {
     "name": "#%% md\n"
    }
   }
  },
  {
   "cell_type": "code",
   "execution_count": 19,
   "outputs": [],
   "source": [
    "import os\n",
    "name = 'NS-2d-control'\n",
    "work_path = os.path.join('work', name)\n",
    "isCreated = os.path.exists(work_path)\n",
    "if not isCreated:\n",
    "    os.makedirs(work_path)\n",
    "\n",
    "class Net(DeepModel_single):\n",
    "    def __init__(self, planes):\n",
    "        super(Net, self).__init__(planes, active=nn.Tanh())\n",
    "        self.Re = 100.\n",
    "\n",
    "\n",
    "    def equation(self, inn_var, out_var):\n",
    "        p = out_var[..., (0,)]\n",
    "        u = out_var[..., (1,)]\n",
    "        v = out_var[..., (2,)]\n",
    "        dpda = gradients(p, inn_var)\n",
    "        duda = gradients(u, inn_var)\n",
    "        dvda = gradients(v, inn_var)\n",
    "\n",
    "        dpdx, dpdy = dpda[..., (0,)], dpda[..., (1,)]\n",
    "        dudx, dudy = duda[..., (0,)], duda[..., (1,)]\n",
    "        dvdx, dvdy = dvda[..., (0,)], dvda[..., (1,)]\n",
    "\n",
    "        d2udx2 = gradients(dudx, inn_var)[..., (0,)]\n",
    "        d2udy2 = gradients(dudy, inn_var)[..., (1,)]\n",
    "        d2vdx2 = gradients(dvdx, inn_var)[..., (0,)]\n",
    "        d2vdy2 = gradients(dvdy, inn_var)[..., (1,)]\n",
    "\n",
    "        res_x = u * dudx + v * dudy + dpdx - (d2udx2+d2udy2) / self.Re\n",
    "        res_y = u * dvdx + v * dvdy + dpdy - (d2vdx2+d2vdy2) / self.Re\n",
    "        res_c = dudx + dvdy\n",
    "\n",
    "        return torch.cat((res_x, res_y, res_c), dim=-1), torch.stack((dpda, duda, dvda), dim=-1)"
   ],
   "metadata": {
    "collapsed": false,
    "pycharm": {
     "name": "#%%\n"
    }
   }
  },
  {
   "cell_type": "markdown",
   "source": [
    "#### 数据生成"
   ],
   "metadata": {
    "collapsed": false,
    "pycharm": {
     "name": "#%% md\n"
    }
   }
  },
  {
   "cell_type": "code",
   "execution_count": 20,
   "outputs": [
    {
     "data": {
      "text/plain": "Text(0, 0.5, '$y$')"
     },
     "execution_count": 20,
     "metadata": {},
     "output_type": "execute_result"
    },
    {
     "data": {
      "text/plain": "<Figure size 1152x432 with 4 Axes>",
      "image/png": "[encoded data removed]"
     },
     "metadata": {
      "needs_background": "light"
     },
     "output_type": "display_data"
    }
   ],
   "source": [
    "Nx = 151\n",
    "Ny = 101  # change to 100\n",
    "node_x = np.linspace(0.0, 1.5, Nx)[:, None]\n",
    "node_y = np.linspace(0.0, 1.0, Ny)[:, None]\n",
    "# print(node_x)\n",
    "node_x = np.tile(node_x, (1, node_y.shape[0]))  # Nx x Ny\n",
    "node_y = np.tile(node_y, (1, node_x.shape[0])).T  # Nx x Ny\n",
    "\n",
    "input = np.stack((node_x, node_y), axis=-1)\n",
    "field = np.zeros((Nx, Ny, 3), dtype=np.float32)\n",
    "\n",
    "# field[0, :, 1] = 4 * input[0, :, -1] * (1 - input[0, :, -1])  # 左侧进口边界条件\n",
    "field[-1, :, 1] = 4 * input[-1, :, -1] * (1 - input[-1, :, -1])  # 控制时为出口边界\n",
    "# print(field[0, :, 1])\n",
    "field[50+1:100, 0, 2] = 0.3;  field[50+1:100, -1, 2] = 0.3  # 底/顶部进口边界条件\n",
    "field[0:51, 0, :] = 0;  field[0:51, -1, :] = 0; field[100:, 0, :] = 0 ; field[100:, -1, :] = 0  # 底/顶部壁面边界条件\n",
    "\n",
    "normv = np.zeros_like(input)  # 法向量\n",
    "normv[0, :, 0] = -1; normv[-1, :, 0] = 1\n",
    "normv[:, 0, 1] = -1; normv[:, -1, 1] = 1\n",
    "\n",
    "if torch.cuda.is_available():\n",
    "    device = torch.device('cuda')\n",
    "else:\n",
    "    device = torch.device('cpu')\n",
    "\n",
    "nodes_train = torch.tensor(input, dtype=torch.float32).to(device)\n",
    "field_train = torch.tensor(field, dtype=torch.float32).to(device)\n",
    "normv_train = torch.tensor(normv, dtype=torch.float32).to(device)\n",
    "\n",
    "plt.figure(figsize=(16, 6))\n",
    "plt.clf()\n",
    "plt.subplot(121)\n",
    "plt.contourf(node_x, node_y, field[..., 1], cmap='RdBu')\n",
    "plt.colorbar()\n",
    "plt.xlabel('$x$')\n",
    "plt.ylabel('$y$')\n",
    "\n",
    "plt.subplot(122)\n",
    "plt.contourf(node_x, node_y, field[..., 2], cmap='RdBu')\n",
    "plt.colorbar()\n",
    "plt.xlabel('$x$')\n",
    "plt.ylabel('$y$')"
   ],
   "metadata": {
    "collapsed": false,
    "pycharm": {
     "name": "#%%\n"
    }
   }
  },
  {
   "cell_type": "markdown",
   "source": [
    "#### 定义训练过程"
   ],
   "metadata": {
    "collapsed": false,
    "pycharm": {
     "name": "#%% md\n"
    }
   }
  },
  {
   "cell_type": "code",
   "execution_count": 21,
   "outputs": [],
   "source": [
    "# 建立网络\n",
    "Net_model = Net(planes=[2] + [64] * 3 + [3],).to(device)\n",
    "# 损失函数\n",
    "L2loss = nn.MSELoss()\n",
    "# 优化算法\n",
    "Optimizer = torch.optim.Adam(Net_model.parameters(), lr=0.001, betas=(0.7, 0.9))\n",
    "# 下降策略\n",
    "Scheduler = torch.optim.lr_scheduler.MultiStepLR(Optimizer, milestones=[150000, 250000], gamma=0.1)\n",
    "# 可视化\n",
    "Visual = matplotlib_vision('/', input_name=('x', 'y'), field_name=('p','u','v',))\n",
    "def train(inn_var, bounds, out_true, model, Loss, optimizer, scheduler, log_loss):\n",
    "\n",
    "    def closure():\n",
    "\n",
    "        optimizer.zero_grad()\n",
    "        out_var = model(inn_var)\n",
    "        res_i, Dout_var = model.equation(inn_var, out_var)\n",
    "        bcs_loss_inn_u = Loss(out_var[0, :, 2:], out_true[0, :, 2:])\n",
    "        bcs_loss_bot_u = Loss(out_var[:, 0, 1:], out_true[:, 0, 1:])\n",
    "        bcs_loss_top_u = Loss(out_var[:,-1, 1:], out_true[:,-1, 1:])\n",
    "        bound_out_u = (bounds[-1, :, :].unsqueeze(-1) * Dout_var[-1, :, :, 1:]).sum(dim=-2)\n",
    "        bcs_loss_out_u = Loss(bound_out_u, torch.zeros_like(bound_out_u))\n",
    "        bcs_loss_u =  bcs_loss_bot_u + bcs_loss_top_u + bcs_loss_out_u + bcs_loss_inn_u\n",
    "\n",
    "        bcs_loss_out_p = Loss(out_var[-1, :, 0], out_true[-1, :, 0])\n",
    "        bound_inn_p = (bounds[0, :, :] * Dout_var[0, :, :, 0]).sum(dim=-1)\n",
    "        bound_top_p = (bounds[:, -1, :] * Dout_var[:, -1, :, 0]).sum(dim=-1)\n",
    "        bound_bot_p = (bounds[:, 0, :] * Dout_var[:, 0, :, 0]).sum(dim=-1)\n",
    "        bcs_loss_inn_p = Loss(bound_inn_p, torch.zeros_like(bound_inn_p))\n",
    "        bcs_loss_top_p = Loss(bound_top_p, torch.zeros_like(bound_top_p))\n",
    "        bcs_loss_bot_p = Loss(bound_bot_p, torch.zeros_like(bound_bot_p))\n",
    "        bcs_loss_p = bcs_loss_out_p + bcs_loss_inn_p + bcs_loss_top_p + bcs_loss_bot_p\n",
    "\n",
    "        obj_loss = Loss(out_var[-1, :, 1:], out_true[-1, :, 1:])\n",
    "\n",
    "        eqs_loss = Loss(res_i[1:-1, 1:-1], torch.zeros_like(res_i[1:-1, 1:-1], dtype=torch.float32))\n",
    "        loss_batch = bcs_loss_u * 10 + bcs_loss_p * 10 + eqs_loss + obj_loss * 5\n",
    "        loss_batch.backward()\n",
    "\n",
    "        data_loss = Loss(out_var, out_true)\n",
    "        log_loss.append([eqs_loss.item(), bcs_loss_u.item(), bcs_loss_p.item(), obj_loss.item(), data_loss.item()])\n",
    "\n",
    "        return loss_batch\n",
    "\n",
    "    optimizer.step(closure)\n",
    "    scheduler.step()\n",
    "\n",
    "def inference(inn_var, model):\n",
    "\n",
    "    out_pred = model(inn_var)\n",
    "    equation, _ = model.equation(inn_var, out_pred)\n",
    "    return out_pred, equation"
   ],
   "metadata": {
    "collapsed": false,
    "pycharm": {
     "name": "#%%\n"
    }
   }
  },
  {
   "cell_type": "markdown",
   "source": [
    "#### 执行训练过程"
   ],
   "metadata": {
    "collapsed": false,
    "pycharm": {
     "name": "#%% md\n"
    }
   }
  },
  {
   "cell_type": "code",
   "execution_count": null,
   "outputs": [
    {
     "name": "stderr",
     "output_type": "stream",
     "text": [
      "  4%|▎         | 11092/300000 [03:13<1:24:03, 57.28it/s, lr=0.001, dat_loss=0.167, cost:=194, eqs_loss=0.0142, bcs_loss_u=0.00306, bcs_loss_p=0.000356, obj_loss=0.000481]"
     ]
    }
   ],
   "source": [
    "star_time = time.time()\n",
    "log_loss = []\n",
    "pbar = trange(300000)\n",
    "\n",
    "inn_var = nodes_train\n",
    "inn_var.requires_grad_(True)\n",
    "\n",
    "# Training\n",
    "for iter in pbar:\n",
    "\n",
    "    learning_rate = Optimizer.state_dict()['param_groups'][0]['lr']\n",
    "    train(inn_var, normv_train, field_train, Net_model, L2loss, Optimizer, Scheduler, log_loss)\n",
    "\n",
    "    # if iter > 0 and iter % 200 == 0:\n",
    "    # print('iter: {:6d}, lr: {:.3e}, eqs_loss: {:.3e}, dat_loss: {:.3e}, bon_loss1: {:.3e}, cost: {:.2f}'.\n",
    "    #       format(iter, learning_rate, log_loss[-1][0], log_loss[-1][-1], log_loss[-1][1], time.time()-star_time))\n",
    "\n",
    "    pbar.set_postfix({'lr': learning_rate, 'dat_loss': log_loss[-1][-1], 'cost:':  time.time()-star_time,\n",
    "                      'eqs_loss': log_loss[-1][0], 'bcs_loss_u': log_loss[-1][1],\n",
    "                      'bcs_loss_p': log_loss[-1][2], 'obj_loss': log_loss[-1][3]})\n",
    "torch.save({'log_loss': log_loss, 'model': Net_model.state_dict(), }, os.path.join(work_path, 'latest_model.pth'))"
   ],
   "metadata": {
    "collapsed": false,
    "pycharm": {
     "name": "#%%\n",
     "is_executing": true
    }
   }
  },
  {
   "cell_type": "markdown",
   "source": [
    "#### 训练过程损失可视化"
   ],
   "metadata": {
    "collapsed": false,
    "pycharm": {
     "name": "#%% md\n"
    }
   }
  },
  {
   "cell_type": "code",
   "execution_count": null,
   "outputs": [],
   "source": [
    "plt.figure(2, figsize=(10, 5))\n",
    "plt.clf()\n",
    "Visual.plot_loss(np.arange(len(log_loss)), np.array(log_loss)[:, 0], 'eqs_loss')\n",
    "Visual.plot_loss(np.arange(len(log_loss)), np.array(log_loss)[:, 1], 'bcs_loss_u')\n",
    "Visual.plot_loss(np.arange(len(log_loss)), np.array(log_loss)[:, 2], 'bcs_loss_p')\n",
    "Visual.plot_loss(np.arange(len(log_loss)), np.array(log_loss)[:, 3], 'obj_loss')\n",
    "Visual.plot_loss(np.arange(len(log_loss)), np.array(log_loss)[:, -1], 'dat_loss')\n",
    "plt.title('training loss')"
   ],
   "metadata": {
    "collapsed": false,
    "pycharm": {
     "name": "#%%\n",
     "is_executing": true
    }
   }
  },
  {
   "cell_type": "markdown",
   "source": [
    "#### 结果对比"
   ],
   "metadata": {
    "collapsed": false,
    "pycharm": {
     "name": "#%% md\n"
    }
   }
  },
  {
   "cell_type": "code",
   "execution_count": null,
   "outputs": [],
   "source": [
    "field_pred, equation = inference(inn_var, Net_model)\n",
    "\n",
    "input_visual = input\n",
    "field_visual_t = np.concatenate((field, field[:, :, :1]), axis=-1)\n",
    "field_visual_p = field_pred.detach().cpu().numpy()\n",
    "field_visual_p = np.concatenate((field_visual_p, np.sqrt(field_visual_p[:, :, 1:2]**2 + field_visual_p[:, :, 2:3]**2)), axis=-1)\n",
    "\n",
    "fig = plt.figure(figsize=(20, 15))\n",
    "Visual.plot_fields_ms(field_visual_p, field_visual_t, input_visual, field_name=('p', 'u', 'v', 'U'))\n",
    "\n",
    "# plt.streamplot(input_visual[..., 0], input_visual[..., 1], field_visual_p[..., 1], field_visual_p[..., 2])\n"
   ],
   "metadata": {
    "collapsed": false,
    "pycharm": {
     "name": "#%%\n",
     "is_executing": true
    }
   }
  },
  {
   "cell_type": "markdown",
   "source": [
    "#### 残差损失"
   ],
   "metadata": {
    "collapsed": false,
    "pycharm": {
     "name": "#%% md\n"
    }
   }
  },
  {
   "cell_type": "code",
   "execution_count": null,
   "outputs": [],
   "source": [
    "plt.figure(1, figsize=(15, 5))\n",
    "plt.clf()\n",
    "for i in range(3):\n",
    "    plt.subplot(1,3,i+1)\n",
    "    plt.contourf(input_visual[..., 0], input_visual[..., 1], equation[..., i].detach().cpu().numpy())\n",
    "    plt.xlabel('$x$')\n",
    "    plt.ylabel('$y$')\n",
    "    # plt.title('')\n",
    "    plt.colorbar()\n"
   ],
   "metadata": {
    "collapsed": false,
    "pycharm": {
     "name": "#%%\n",
     "is_executing": true
    }
   }
  },
  {
   "cell_type": "markdown",
   "source": [
    "#### 细节对比"
   ],
   "metadata": {
    "collapsed": false,
    "pycharm": {
     "name": "#%% md\n"
    }
   }
  },
  {
   "cell_type": "code",
   "execution_count": null,
   "outputs": [],
   "source": [
    "plt.figure(2, figsize=(15, 5))\n",
    "plt.clf()\n",
    "plt.subplot(121)\n",
    "Visual.plot_value(field_visual_t[-1, :, 1], input_visual[-1, :, 1], 'true')\n",
    "Visual.plot_value(field_visual_p[-1, :, 1], input_visual[-1, :, 1], 'pred')\n",
    "plt.title('outlet-u')\n",
    "\n",
    "\n",
    "plt.subplot(122)\n",
    "Visual.plot_value(field_visual_t[-1, :, 2], input_visual[-1, :, 1],  'true')\n",
    "Visual.plot_value(field_visual_p[-1, :, 2], input_visual[-1, :, 1],  'pred')\n",
    "plt.title('outlet-v')"
   ],
   "metadata": {
    "collapsed": false,
    "pycharm": {
     "name": "#%%\n",
     "is_executing": true
    }
   }
  },
  {
   "cell_type": "code",
   "execution_count": null,
   "outputs": [],
   "source": [
    "plt.figure(3, figsize=(15, 5))\n",
    "plt.clf()\n",
    "plt.subplot(121)\n",
    "Visual.plot_value(field_visual_t[0, :, 1], input_visual[0, :, 1], 'true')\n",
    "Visual.plot_value(field_visual_p[0, :, 1], input_visual[0, :, 1], 'pred')\n",
    "plt.title('inlet-u')\n",
    "\n",
    "plt.subplot(122)\n",
    "Visual.plot_value(field_visual_t[0, :, 2], input_visual[0, :, 1],  'true')\n",
    "Visual.plot_value(field_visual_p[0, :, 2], input_visual[0, :, 1],  'pred')\n",
    "plt.title('inlet-v')"
   ],
   "metadata": {
    "collapsed": false,
    "pycharm": {
     "name": "#%%\n",
     "is_executing": true
    }
   }
  },
  {
   "cell_type": "markdown",
   "source": [],
   "metadata": {
    "collapsed": false,
    "pycharm": {
     "name": "#%% md\n"
    }
   }
  }
 ],
 "metadata": {
  "kernelspec": {
   "display_name": "Python 3",
   "language": "python",
   "name": "python3"
  },
  "language_info": {
   "codemirror_mode": {
    "name": "ipython",
    "version": 2
   },
   "file_extension": ".py",
   "mimetype": "text/x-python",
   "name": "python",
   "nbconvert_exporter": "python",
   "pygments_lexer": "ipython2",
   "version": "2.7.6"
  }
 },
 "nbformat": 4,
 "nbformat_minor": 0
}